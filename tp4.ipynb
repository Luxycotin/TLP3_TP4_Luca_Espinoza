{
 "cells": [
  {
   "cell_type": "markdown",
   "id": "3e4771e8",
   "metadata": {},
   "source": [
    "# Trabajo Practico n4 - Introduccion a numpy.\n",
    "## Criterios de evaluación.\n",
    "\n",
    "* Se deben utilizar nombres de variables descriptivos y claros (Utilizar la nomeclatura correspondiente para los nombres de variables).\n",
    "* Comentarios claros y concisos que expliquen el propósito de cada sección del código.\n",
    "* Utilizar mensajes de commit **descriptivos**. (Puedes utilizar la extension CONVENTIONAL COMMIT de VS-CODE). \n",
    "* Entrega en tiempo y forma.\n",
    "* Todo el código desarrollado debe ser subido a un repositorio en GitHub (el nombre del repositorio de seguir la siguiente estructura: tp4_tlp3_nombre_apellido).\n",
    "* Para resolver las actividades se debe insertar casillas de codigo entre cada actividad del cuaderno de Jupyter\n",
    "\n",
    "### ¡Importante!\n",
    "**El incumplimiento de los criterios de evaluación restará puntos en la nota final del práctico!**"
   ]
  },
  {
   "cell_type": "markdown",
   "id": "6f3340d9",
   "metadata": {},
   "source": [
    "**Importaciones:**"
   ]
  },
  {
   "cell_type": "code",
   "execution_count": 10,
   "id": "783ab170",
   "metadata": {},
   "outputs": [],
   "source": [
    "import numpy as np\n",
    "from random import randint"
   ]
  },
  {
   "cell_type": "markdown",
   "id": "c5ba7292",
   "metadata": {},
   "source": [
    "**Actividad 1:**: Crea un array de NumPy que contenga los números del 0 al 9. (Debes utilizar un metodo de numpy para su creacion.)"
   ]
  },
  {
   "cell_type": "code",
   "execution_count": 4,
   "id": "75029034",
   "metadata": {},
   "outputs": [
    {
     "name": "stdout",
     "output_type": "stream",
     "text": [
      "El array da los siguientes resultados:  [0 1 2 3 4 5 6 7 8 9]\n"
     ]
    }
   ],
   "source": [
    "#todo: \n",
    "\n",
    "# Acá creamos un array con los números del a al 9 usando np.arange()\n",
    "array_NumPy = np.arange(10)\n",
    "\n",
    "print(\"El array da los siguientes resultados: \", array_NumPy)\n",
    "\n"
   ]
  },
  {
   "cell_type": "markdown",
   "id": "cb894927",
   "metadata": {},
   "source": [
    "**Actividad 2:** Crea un array de 5 ceros, y luego cambia el tercer elemento (índice 2) para que sea 5. (Debes utilizar un metodo de numpy para su creacion.)"
   ]
  },
  {
   "cell_type": "code",
   "execution_count": 6,
   "id": "b9cd04a0",
   "metadata": {},
   "outputs": [
    {
     "name": "stdout",
     "output_type": "stream",
     "text": [
      "Array con un 5 en el índice 2 [0. 0. 5. 0. 0.]\n"
     ]
    }
   ],
   "source": [
    "#todo:\n",
    "\n",
    "# Hacemos un array de 5 ceros con np.zeros()\n",
    "array_ceros = np.zeros(5)\n",
    "\n",
    "# Se le cambia el valor en el índice 2 (el tercer elemento) a 5 :)\n",
    "array_ceros[2] = 5\n",
    "\n",
    "print(\"Array con un 5 en el índice 2\", array_ceros)\n"
   ]
  },
  {
   "cell_type": "markdown",
   "id": "000352a3",
   "metadata": {},
   "source": [
    "**Actividad 3:** Genera una matriz 3x3 de números aleatorios entre 0 y 1."
   ]
  },
  {
   "cell_type": "code",
   "execution_count": 8,
   "id": "e74354c9",
   "metadata": {},
   "outputs": [
    {
     "name": "stdout",
     "output_type": "stream",
     "text": [
      "Matriz 3x3 con números entre el 0 y el 1 (excluyendo al 0 y 1): [[0.17228128 0.8050939  0.45302625]\n",
      " [0.85384033 0.13597909 0.02536525]\n",
      " [0.52278277 0.57703116 0.49922242]]\n"
     ]
    }
   ],
   "source": [
    "#todo: \n",
    "# Hacemos una matriz de 3x3 con números aleatorios entre 0 y 1\n",
    "\n",
    "matriz_random = np.random.uniform(low=0.0001, high=0.9999, size=(3, 3))\n",
    "\n",
    "# Forzamos que los valores estén en un rango como (0.0001, 0.9999), porque dice entre 0 y 1 :) \n",
    "\n",
    "print(\"Matriz 3x3 con números entre el 0 y el 1 (excluyendo al 0 y 1):\", matriz_random)\n"
   ]
  },
  {
   "cell_type": "markdown",
   "id": "6611aaf8",
   "metadata": {},
   "source": [
    "**Actividad 4:** Dado el siguiente array `arr = np.array([10, 20, 30, 40, 50])`\n",
    "1. Suma 5 a cada elemento.\n",
    "2. Multiplica todo por un numero aleatorio (utiliza el modulo random para generarlo.)"
   ]
  },
  {
   "cell_type": "code",
   "execution_count": 13,
   "id": "ed416e11",
   "metadata": {},
   "outputs": [
    {
     "name": "stdout",
     "output_type": "stream",
     "text": [
      "Array original + 5: [15 25 35 45 55]\n",
      "El Array multiplicado por:  1.8990853895569346  es  [ 28.48628084  47.47713474  66.46798863  85.45884253 104.44969643]\n"
     ]
    }
   ],
   "source": [
    "#todo:\n",
    "import random \n",
    "# no me tomaba el random.uniform() así que lo importé de nuevo\n",
    "\n",
    "arr = np.array([10, 20, 30, 40, 50])\n",
    "\n",
    "# Se Suman 5 a cada elemento\n",
    "arr_5 = arr + 5\n",
    "\n",
    "# Se saca un número aleatorio entre el 1 y el 10 para multiplicarlo por el array\n",
    "numero_random = random.uniform(1, 10)\n",
    "\n",
    "arr_multi = arr_5 * numero_random\n",
    "\n",
    "print(\"Array original + 5:\", arr_5)\n",
    "print(\"El Array multiplicado por: \", numero_random,\" es \", arr_multi)\n",
    "\n"
   ]
  },
  {
   "cell_type": "markdown",
   "id": "fbd05c4d",
   "metadata": {},
   "source": [
    "**Actividad 5:** Crea una matriz identidad de tamaño 4x4 (unos en la diagonal principal y ceros en el resto)."
   ]
  },
  {
   "cell_type": "code",
   "execution_count": 18,
   "id": "6811c19f",
   "metadata": {},
   "outputs": [
    {
     "name": "stdout",
     "output_type": "stream",
     "text": [
      "Matriz identidad 4x4: [[1. 0. 0. 0.]\n",
      " [0. 1. 0. 0.]\n",
      " [0. 0. 1. 0.]\n",
      " [0. 0. 0. 1.]]\n"
     ]
    }
   ],
   "source": [
    "#todo:\n",
    "\n",
    "# Hacemos una matriz identidad de 4x4 usando np.eye(), tenia pensado usar identity() pero no me tomaba el import (?)\n",
    "matriz_id = np.eye(4)\n",
    "\n",
    "print(\"Matriz identidad 4x4:\", matriz_id)\n"
   ]
  },
  {
   "cell_type": "markdown",
   "id": "3ec18459",
   "metadata": {},
   "source": [
    "**Actividad 6:** Crea un array que comience en 0 hasta el 20, pero que solo tenga numeros pares yu luego realiza las 4 operaciones basicas. (suma, resta, multiplicacion, division)."
   ]
  },
  {
   "cell_type": "code",
   "execution_count": 21,
   "id": "f0c02872",
   "metadata": {},
   "outputs": [
    {
     "name": "stdout",
     "output_type": "stream",
     "text": [
      "Array original: [ 0  2  4  6  8 10 12 14 16 18 20]\n",
      "Suma : [ 3  5  7  9 11 13 15 17 19 21 23]\n",
      "Resta : [-3 -1  1  3  5  7  9 11 13 15 17]\n",
      "Multiplicación : [ 0  6 12 18 24 30 36 42 48 54 60]\n",
      "División : [0.         0.66666667 1.33333333 2.         2.66666667 3.33333333\n",
      " 4.         4.66666667 5.33333333 6.         6.66666667]\n"
     ]
    }
   ],
   "source": [
    "#todo: \n",
    "\n",
    "import numpy as np\n",
    "\n",
    "# Hacemos un array de números entre 0 y 20, usando un booleano en mi caso\n",
    "array_par = np.array([i for i in range(21) if i % 2 == 0])\n",
    "\n",
    "# Le pedimos un número al usuario y lo convertimos a entero\n",
    "numero = int(input(\"Ingrese un número para realizar operaciones con el array: \"))\n",
    "\n",
    "suma = array_par + numero\n",
    "resta = array_par - numero\n",
    "multiplicacion = array_par * numero\n",
    "division = array_par / numero\n",
    "\n",
    "# Se muestran los resultados\n",
    "print(\"Array original:\", array_par)\n",
    "print(\"Suma :\".format(numero), suma)\n",
    "print(\"Resta :\".format(numero), resta)\n",
    "print(\"Multiplicación :\".format(numero), multiplicacion)\n",
    "print(\"División :\".format(numero), division)\n",
    "\n",
    "\n"
   ]
  }
 ],
 "metadata": {
  "kernelspec": {
   "display_name": "Python 3",
   "language": "python",
   "name": "python3"
  },
  "language_info": {
   "codemirror_mode": {
    "name": "ipython",
    "version": 3
   },
   "file_extension": ".py",
   "mimetype": "text/x-python",
   "name": "python",
   "nbconvert_exporter": "python",
   "pygments_lexer": "ipython3",
   "version": "3.13.2"
  }
 },
 "nbformat": 4,
 "nbformat_minor": 5
}
